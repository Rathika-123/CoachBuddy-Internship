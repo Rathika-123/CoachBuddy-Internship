{
 "cells": [
  {
   "cell_type": "code",
   "execution_count": 11,
   "metadata": {},
   "outputs": [
    {
     "name": "stdout",
     "output_type": "stream",
     "text": [
      "[0, 1, 4, 9, 16]\n",
      "[0, 1, 4, 9, 16]\n"
     ]
    }
   ],
   "source": [
    "#list comprehension\n",
    "square=[x**2 for x in range(5)]\n",
    "print(square)\n",
    "#map functions\n",
    "squares=list(map(lambda x:x**2 , range(5)))\n",
    "print(squares)"
   ]
  },
  {
   "cell_type": "code",
   "execution_count": 12,
   "metadata": {},
   "outputs": [
    {
     "name": "stdout",
     "output_type": "stream",
     "text": [
      "Udupi\n",
      "[1, 2, 3, 4]\n",
      "{0: 0, 1: 1, 2: 4, 3: 9, 4: 16}\n"
     ]
    }
   ],
   "source": [
    "#Creating the dictionary\n",
    "Dict={'Name':'Riya','place':'Udupi',1:[1,2,3,4]}\n",
    "#Accessing elements using keys\n",
    "print(Dict['place'])\n",
    "#Accessing elements using gets\n",
    "print(Dict.get(1))\n",
    "myDict={x:x**2 for x in range(5)}\n",
    "print(myDict)"
   ]
  },
  {
   "cell_type": "code",
   "execution_count": 13,
   "metadata": {},
   "outputs": [
    {
     "name": "stdout",
     "output_type": "stream",
     "text": [
      "Counter({'a': 3, 'b': 2})\n",
      "Counter({'a': 3, 'b': 2})\n",
      "Counter({'a': 3, 'b': 2})\n"
     ]
    }
   ],
   "source": [
    "from collections import Counter\n",
    "print(Counter(['a','b','b','a','a']))\n",
    "print(Counter({'a':3,'b':2}))\n",
    "print(Counter(a=3,b=2))"
   ]
  },
  {
   "cell_type": "code",
   "execution_count": 14,
   "metadata": {},
   "outputs": [
    {
     "name": "stdout",
     "output_type": "stream",
     "text": [
      "Riya\n",
      "Iris\n"
     ]
    }
   ],
   "source": [
    "Tuple=['Riya',2,'Iris',34]\n",
    "print(Tuple[0])\n",
    "print(Tuple[-2])"
   ]
  },
  {
   "cell_type": "code",
   "execution_count": 15,
   "metadata": {},
   "outputs": [
    {
     "name": "stdout",
     "output_type": "stream",
     "text": [
      "{1, 2, 3, 'Hello', 7, 9, 'Home'}\n",
      "1 2 3 Hello 7 9 Home \n",
      "True\n"
     ]
    }
   ],
   "source": [
    "Set=set([1,2,3,'Hello','Home',7,9])\n",
    "print(Set)\n",
    "for _ in Set:\n",
    "    print(_, end=\" \")\n",
    "print()\n",
    "print(\"Hello\" in Set)"
   ]
  },
  {
   "cell_type": "code",
   "execution_count": 16,
   "metadata": {},
   "outputs": [
    {
     "name": "stdout",
     "output_type": "stream",
     "text": [
      "{1, 2, 3, 4}\n",
      "frozenset({8, 4, 6, 7})\n"
     ]
    }
   ],
   "source": [
    "normal_set=set([1,2,3,4])\n",
    "print(normal_set)\n",
    "frozen_set=frozenset([6,7,4,8])\n",
    "print(frozen_set)"
   ]
  },
  {
   "cell_type": "code",
   "execution_count": 17,
   "metadata": {},
   "outputs": [
    {
     "name": "stdout",
     "output_type": "stream",
     "text": [
      "Display dictionary\n",
      "\n",
      "a 1\n",
      "b 2\n",
      "c 3\n",
      "d 4\n",
      "OrderedDict([('a', 1), ('c', 3), ('d', 4)])\n",
      "OrderedDict([('a', 1), ('c', 3), ('d', 4), ('l', 5)])\n"
     ]
    }
   ],
   "source": [
    "from collections import OrderedDict\n",
    "\n",
    "print(\"Display dictionary\\n\")\n",
    "od = OrderedDict({'a':1,'b':2,'c':3,'d':4})\n",
    "\n",
    "for key, value in od.items():\n",
    "    print(key, value)\n",
    "\n",
    "od.pop('b')\n",
    "print(od)\n",
    "\n",
    "od['l']=5\n",
    "print(od)"
   ]
  },
  {
   "cell_type": "code",
   "execution_count": 18,
   "metadata": {},
   "outputs": [
    {
     "name": "stdout",
     "output_type": "stream",
     "text": [
      "i\n",
      "Welcome to Udup\n"
     ]
    }
   ],
   "source": [
    "String=\"Welcome to Udupi\"\n",
    "print(String[-1])\n",
    "print(String[:-1])"
   ]
  },
  {
   "cell_type": "code",
   "execution_count": 19,
   "metadata": {},
   "outputs": [
    {
     "name": "stdout",
     "output_type": "stream",
     "text": [
      "<class '__main__.MyDict'>\n",
      "__main__.MyDict[{'a': 1, 'b': 2, 'c': 3}]\n"
     ]
    },
    {
     "ename": "ResourceWarning",
     "evalue": "Deletion not allowed",
     "output_type": "error",
     "traceback": [
      "\u001b[0;31m---------------------------------------------------------------------------\u001b[0m",
      "\u001b[0;31mResourceWarning\u001b[0m                           Traceback (most recent call last)",
      "Cell \u001b[0;32mIn[19], line 15\u001b[0m\n\u001b[1;32m     13\u001b[0m \u001b[38;5;28mprint\u001b[39m(MyDict)\n\u001b[1;32m     14\u001b[0m \u001b[38;5;28mprint\u001b[39m(\u001b[38;5;28mdict\u001b[39m)\n\u001b[0;32m---> 15\u001b[0m \u001b[38;5;28;43mdict\u001b[39;49m\u001b[38;5;241;43m.\u001b[39;49m\u001b[43mpopitem\u001b[49m\u001b[43m(\u001b[49m\u001b[38;5;241;43m2\u001b[39;49m\u001b[43m)\u001b[49m\n",
      "Cell \u001b[0;32mIn[19], line 9\u001b[0m, in \u001b[0;36mMyDict.popitem\u001b[0;34m(self, s)\u001b[0m\n\u001b[1;32m      8\u001b[0m \u001b[38;5;28;01mdef\u001b[39;00m \u001b[38;5;21mpopitem\u001b[39m(\u001b[38;5;28mself\u001b[39m, s\u001b[38;5;241m=\u001b[39m\u001b[38;5;28;01mNone\u001b[39;00m):\n\u001b[0;32m----> 9\u001b[0m     \u001b[38;5;28;01mraise\u001b[39;00m \u001b[38;5;167;01mResourceWarning\u001b[39;00m(\u001b[38;5;124m\"\u001b[39m\u001b[38;5;124mDeletion not allowed\u001b[39m\u001b[38;5;124m\"\u001b[39m)\n",
      "\u001b[0;31mResourceWarning\u001b[0m: Deletion not allowed"
     ]
    }
   ],
   "source": [
    "from collections import UserDict\n",
    "\n",
    "class MyDict(UserDict):\n",
    "    def __del__(self):\n",
    "        raise ResourceWarning(\"Deletion not allowed\")\n",
    "    def pop(self, s=None):\n",
    "        raise ResourceWarning(\"Deletion not allowed\")\n",
    "    def popitem(self, s=None):\n",
    "        raise ResourceWarning(\"Deletion not allowed\")\n",
    "dict=MyDict[{'a':1,\n",
    "             'b':2,\n",
    "             'c':3}]\n",
    "print(MyDict)\n",
    "print(dict)\n",
    "dict.popitem(2)"
   ]
  },
  {
   "cell_type": "code",
   "execution_count": null,
   "metadata": {},
   "outputs": [],
   "source": []
  }
 ],
 "metadata": {
  "kernelspec": {
   "display_name": "python-learning",
   "language": "python",
   "name": "python3"
  },
  "language_info": {
   "codemirror_mode": {
    "name": "ipython",
    "version": 3
   },
   "file_extension": ".py",
   "mimetype": "text/x-python",
   "name": "python",
   "nbconvert_exporter": "python",
   "pygments_lexer": "ipython3",
   "version": "3.9.20"
  }
 },
 "nbformat": 4,
 "nbformat_minor": 2
}
