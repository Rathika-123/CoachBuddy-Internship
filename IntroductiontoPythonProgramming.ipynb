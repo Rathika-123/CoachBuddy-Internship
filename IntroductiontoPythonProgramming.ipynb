{
 "cells": [
  {
   "cell_type": "code",
   "execution_count": 8,
   "metadata": {},
   "outputs": [
    {
     "name": "stdout",
     "output_type": "stream",
     "text": [
      "hello,  999\n",
      "hello, \"friend\"\n"
     ]
    }
   ],
   "source": [
    "name=input(\"What is the name?\").strip().title()\n",
    "print(\"hello, \",name)\n",
    "print(\"hello, \\\"friend\\\"\")"
   ]
  },
  {
   "cell_type": "code",
   "execution_count": 11,
   "metadata": {},
   "outputs": [
    {
     "name": "stdout",
     "output_type": "stream",
     "text": [
      "1000.0\n",
      "1,000\n"
     ]
    }
   ],
   "source": [
    "x=float(input(\"Enter the number\"))\n",
    "y=float(input(\"Enter the number\"))\n",
    "print(x+y)\n",
    "z=round(x + y)\n",
    "print(f\"{z:,}\")"
   ]
  },
  {
   "cell_type": "code",
   "execution_count": null,
   "metadata": {},
   "outputs": [],
   "source": [
    "def hello(to):\n",
    "    print(\"hello, \",to)\n",
    "name1=input(\"What is your name?\")\n",
    "hello(name1)"
   ]
  },
  {
   "cell_type": "code",
   "execution_count": 13,
   "metadata": {},
   "outputs": [
    {
     "name": "stdout",
     "output_type": "stream",
     "text": [
      "Square of the number:  36\n"
     ]
    }
   ],
   "source": [
    "def main():\n",
    "    x=int(input(\"Enter the number\"))\n",
    "    print(\"Square of the number: \",square(x))\n",
    "def square(x):\n",
    "    return x**2\n",
    "main()"
   ]
  },
  {
   "cell_type": "code",
   "execution_count": 4,
   "metadata": {},
   "outputs": [
    {
     "name": "stdout",
     "output_type": "stream",
     "text": [
      "7 is greater than 2\n"
     ]
    }
   ],
   "source": [
    "x=int(input(\"Enter the number\"))\n",
    "y=int(input(\"Enter the number\"))\n",
    "if x<y:\n",
    "    print(f\"{x} is lesser than {y}\")\n",
    "elif x>y:\n",
    "    print(f\"{x} is greater than {y}\")\n",
    "else:\n",
    "    print(f\"{x} is equal to {y}\")"
   ]
  },
  {
   "cell_type": "code",
   "execution_count": 5,
   "metadata": {},
   "outputs": [
    {
     "name": "stdout",
     "output_type": "stream",
     "text": [
      "x is not equal to y\n"
     ]
    }
   ],
   "source": [
    "if x<y or x>y:\n",
    "    print(\"x is not equal to y\")\n",
    "else:\n",
    "    print(\"x is equal to y\")"
   ]
  },
  {
   "cell_type": "code",
   "execution_count": 6,
   "metadata": {},
   "outputs": [
    {
     "name": "stdout",
     "output_type": "stream",
     "text": [
      "Grade B\n"
     ]
    }
   ],
   "source": [
    "scores=int(input(\"What's score \"))\n",
    "if scores>=90 or scores==100:\n",
    "    print(\"Grade A\")\n",
    "elif scores>=80 or scores<90:\n",
    "    print(\"Grade B\")\n",
    "elif scores>=70 or scores<80:\n",
    "    print(\"Grade C\")\n",
    "elif scores>=60 or scores<70:\n",
    "    print(\"Grade D\")\n",
    "else:\n",
    "    print(\"Fail\")"
   ]
  },
  {
   "cell_type": "code",
   "execution_count": 7,
   "metadata": {},
   "outputs": [
    {
     "name": "stdout",
     "output_type": "stream",
     "text": [
      "Odd\n"
     ]
    }
   ],
   "source": [
    "def main():\n",
    "    x=int(input())\n",
    "    if is_even(x):\n",
    "        print(\"Even\")\n",
    "    else:\n",
    "        print(\"Odd\")\n",
    "def is_even(n):\n",
    "    # if n%2==0:\n",
    "    #     return True\n",
    "    # return False\n",
    "    return n%2==0\n",
    "main()"
   ]
  },
  {
   "cell_type": "code",
   "execution_count": 8,
   "metadata": {},
   "outputs": [
    {
     "name": "stdout",
     "output_type": "stream",
     "text": [
      "x is a 8\n"
     ]
    }
   ],
   "source": [
    "def main():\n",
    "    x = get_int(\"Enter number\")\n",
    "    print(f\"x is a {x}\")\n",
    "    \n",
    "def get_int(prompt):\n",
    "    while True:\n",
    "        try:\n",
    "            return int(input(prompt))\n",
    "        except(ValueError):\n",
    "            pass\n",
    "        \n",
    "main()"
   ]
  },
  {
   "cell_type": "code",
   "execution_count": 2,
   "metadata": {},
   "outputs": [
    {
     "name": "stdout",
     "output_type": "stream",
     "text": [
      "spades\n",
      "heart\n",
      "queen\n"
     ]
    }
   ],
   "source": [
    "import random\n",
    "card=[\"spades\",\"queen\",\"heart\"]\n",
    "random.shuffle(card)\n",
    "for cards in card:\n",
    "    print(cards)"
   ]
  },
  {
   "cell_type": "code",
   "execution_count": 3,
   "metadata": {},
   "outputs": [
    {
     "name": "stdout",
     "output_type": "stream",
     "text": [
      "3622\n"
     ]
    }
   ],
   "source": [
    "import statistics\n",
    "print(statistics.mean([200,787,9879]))"
   ]
  },
  {
   "cell_type": "code",
   "execution_count": 9,
   "metadata": {},
   "outputs": [
    {
     "name": "stdout",
     "output_type": "stream",
     "text": [
      "Hello my name  --f=/home/rathika/.local/share/jupyter/runtime/kernel-v3fbeff9716713911fd3c38ac844d9d90419baea9a.json\n"
     ]
    }
   ],
   "source": [
    "import sys\n",
    "try:\n",
    "    print(\"Hello my name \",sys.argv[1])\n",
    "except IndexError:\n",
    "    print(\"Too few argument\")"
   ]
  },
  {
   "cell_type": "code",
   "execution_count": 6,
   "metadata": {},
   "outputs": [],
   "source": [
    "import sys\n",
    "import requests\n",
    "import json\n",
    "\n",
    "if len(sys.argv)!=2:\n",
    "    sys.exit()\n",
    "\n",
    "response=requests.get(\"https://itunes.apple.com/search?term=ishq\"+sys.argv[1])\n",
    "o=response.json()\n",
    "for result in o[\"results\"]:\n",
    "    print(result[\"trackName\"])"
   ]
  },
  {
   "cell_type": "code",
   "execution_count": 8,
   "metadata": {},
   "outputs": [
    {
     "name": "stdout",
     "output_type": "stream",
     "text": [
      "hello, riya\n"
     ]
    }
   ],
   "source": [
    "names=[]\n",
    "for _ in range(1):\n",
    "    names.append(input(\"Enter the name \"))\n",
    "for name in sorted(names):\n",
    "    print(f\"hello, {name}\")"
   ]
  },
  {
   "cell_type": "code",
   "execution_count": 9,
   "metadata": {},
   "outputs": [],
   "source": [
    "name=input(\"Enter the name \")\n",
    "# file=open(\"name.txt\",\"a\")\n",
    "# file.write(f\"{name}\\n\")\n",
    "# file.close()\n",
    "with open(\"name.txt\",\"a\") as file:\n",
    "    file.write(f\"{name}\\n\")"
   ]
  },
  {
   "cell_type": "code",
   "execution_count": 30,
   "metadata": {},
   "outputs": [
    {
     "name": "stdout",
     "output_type": "stream",
     "text": [
      "Skipping malformed line: riya singh\n",
      "Skipping malformed line: nitin roy\n",
      "Skipping malformed line: virat\n",
      "Skipping malformed line: vijay\n"
     ]
    }
   ],
   "source": [
    "students = []\n",
    "with open(\"students.csv\") as file:\n",
    "    for line in file:\n",
    "        line = line.rstrip()\n",
    "        if \",\" in line:  \n",
    "            n, h = line.split(\",\", 1) \n",
    "            students.append(f\"{n} is in {h}\")\n",
    "        else:\n",
    "            print(f\"Skipping malformed line: {line}\")\n",
    "for student in sorted(students):\n",
    "    print(student)\n"
   ]
  },
  {
   "cell_type": "code",
   "execution_count": 33,
   "metadata": {},
   "outputs": [
    {
     "name": "stdout",
     "output_type": "stream",
     "text": [
      "Alice is in Griffindor\n",
      "Bob is in Hufflepuff\n",
      "Charlie is in Slytherin\n"
     ]
    }
   ],
   "source": [
    "students = []\n",
    "with open(\"students.csv\") as file:\n",
    "    for line in file:\n",
    "        name, house = line.rstrip().split(\",\")\n",
    "        student = {\"name\": name, \"house\": house}\n",
    "        students.append(student)\n",
    "for student in sorted(students, key=lambda s: s[\"name\"]):\n",
    "    print(f\"{student['name']} is in {student['house']}\")\n"
   ]
  },
  {
   "cell_type": "code",
   "execution_count": 39,
   "metadata": {},
   "outputs": [
    {
     "name": "stdout",
     "output_type": "stream",
     "text": [
      "Alice is in Griffindor\n",
      "Bob is in Hufflepuff\n",
      "Charlie is in Slytherin\n"
     ]
    }
   ],
   "source": [
    "import csv\n",
    "students = []\n",
    "with open(\"students.csv\") as file:\n",
    "    reader = csv.reader(file)\n",
    "    for name, house in reader: \n",
    "        students.append({\"name\": name, \"house\": house})\n",
    "for student in sorted(students, key=lambda student: student['name']): \n",
    "    print(f\"{student['name']} is in {student['house']}\")\n"
   ]
  },
  {
   "cell_type": "code",
   "execution_count": 41,
   "metadata": {},
   "outputs": [],
   "source": [
    "name = input(\"What is your name? \")\n",
    "home = input(\"Where is your home? \")\n",
    "with open(\"students.csv\", mode=\"a\", newline=\"\") as file:\n",
    "    writer = csv.DictWriter(file, fieldnames=[\"name\", \"home\"])\n",
    "    file.seek(0, 2)  \n",
    "    if file.tell() == 0:\n",
    "        writer.writeheader()  \n",
    "    writer.writerow({\"name\": name, \"home\": home})\n"
   ]
  },
  {
   "cell_type": "code",
   "execution_count": 45,
   "metadata": {},
   "outputs": [
    {
     "name": "stdout",
     "output_type": "stream",
     "text": [
      "Valid\n"
     ]
    }
   ],
   "source": [
    "email=input(\"Enter the email \").strip()\n",
    "username, domain=email.split('@')\n",
    "if username and '.' in domain:\n",
    "    print(\"Valid\")\n",
    "else:\n",
    "    print(\"Invalid\")"
   ]
  },
  {
   "cell_type": "code",
   "execution_count": 46,
   "metadata": {},
   "outputs": [
    {
     "name": "stdout",
     "output_type": "stream",
     "text": [
      "Valid\n"
     ]
    }
   ],
   "source": [
    "import re\n",
    "email=input(\"Enter the email \").strip()\n",
    "if re.search('@',email):\n",
    "    print(\"Valid\")\n",
    "else:\n",
    "    print(\"Invalid\")"
   ]
  },
  {
   "cell_type": "code",
   "execution_count": 47,
   "metadata": {},
   "outputs": [
    {
     "name": "stdout",
     "output_type": "stream",
     "text": [
      "Valid\n"
     ]
    }
   ],
   "source": [
    "email=input(\"Enter the email \").strip()\n",
    "if re.search('.+@.+',email):\n",
    "    print(\"Valid\")\n",
    "else:\n",
    "    print(\"Invalid\")"
   ]
  },
  {
   "cell_type": "code",
   "execution_count": 48,
   "metadata": {},
   "outputs": [
    {
     "name": "stdout",
     "output_type": "stream",
     "text": [
      "Valid\n"
     ]
    }
   ],
   "source": [
    "email=input(\"Enter the email \").strip()\n",
    "if re.search(r\".+@.+\\.edu\",email):#r\".*@.*\n",
    "    print(\"Valid\")\n",
    "else:\n",
    "    print(\"Invalid\")"
   ]
  },
  {
   "cell_type": "code",
   "execution_count": 49,
   "metadata": {},
   "outputs": [
    {
     "name": "stdout",
     "output_type": "stream",
     "text": [
      "Invalid\n"
     ]
    }
   ],
   "source": [
    "email=input(\"Enter the email \").strip()\n",
    "if re.search(r\"^[a-zA-Z0-9_]+@[a-zA-Z0-9_]+\\.edu$\",email):\n",
    "    print(\"Valid\")\n",
    "else:\n",
    "    print(\"Invalid\")"
   ]
  },
  {
   "cell_type": "code",
   "execution_count": 50,
   "metadata": {},
   "outputs": [
    {
     "name": "stdout",
     "output_type": "stream",
     "text": [
      "Valid\n"
     ]
    }
   ],
   "source": [
    "email=input(\"Enter the email \").strip()\n",
    "if re.search(r\"^\\w+@\\w+\\.(com|edu|gov|net|org)$\",email):\n",
    "    print(\"Valid\")\n",
    "else:\n",
    "    print(\"Invalid\")"
   ]
  },
  {
   "cell_type": "code",
   "execution_count": 51,
   "metadata": {},
   "outputs": [
    {
     "name": "stdout",
     "output_type": "stream",
     "text": [
      "Invalid\n"
     ]
    }
   ],
   "source": [
    "email=input(\"Enter the email \").strip()\n",
    "if re.search(r\"^\\w+@\\w+\\.edu$\",email,re.IGNORECASE):\n",
    "    print(\"Valid\")\n",
    "else:\n",
    "    print(\"Invalid\")"
   ]
  },
  {
   "cell_type": "code",
   "execution_count": 52,
   "metadata": {},
   "outputs": [
    {
     "name": "stdout",
     "output_type": "stream",
     "text": [
      "hello, nikki\n"
     ]
    }
   ],
   "source": [
    "name=input(\"What's your name? \").strip()\n",
    "matches=re.search(r\"^(.+), (.+)$\",name)\n",
    "if matches:\n",
    "    name=matches.group(2)+\" \"+matches.group(1)\n",
    "print(f\"hello, {name}\")"
   ]
  },
  {
   "cell_type": "code",
   "execution_count": 53,
   "metadata": {},
   "outputs": [
    {
     "name": "stdout",
     "output_type": "stream",
     "text": [
      "Username: riya\n"
     ]
    }
   ],
   "source": [
    "url=input(\"URL: \").strip()\n",
    "username=re.sub(r\"https://twitter.com/\",\"\",url)\n",
    "print(f\"Username: {username}\")"
   ]
  },
  {
   "cell_type": "code",
   "execution_count": 54,
   "metadata": {},
   "outputs": [
    {
     "name": "stdout",
     "output_type": "stream",
     "text": [
      "Username: rathika\n"
     ]
    }
   ],
   "source": [
    "url=input(\"URL: \").strip()\n",
    "if matches := re.search(r\"^https?://(?:www\\.)?twitter\\.com/(.+)$\",url,re.IGNORECASE):\n",
    "    print(f\"Username:\",matches.group(1))"
   ]
  },
  {
   "cell_type": "code",
   "execution_count": 55,
   "metadata": {},
   "outputs": [
    {
     "name": "stdout",
     "output_type": "stream",
     "text": [
      "Rathika from Slytherin\n"
     ]
    }
   ],
   "source": [
    "def main():\n",
    "    student=get_student()\n",
    "    if student[0]==\"Padma\":\n",
    "        student[1]=\"Ravenclaw\"\n",
    "    print(f\"{student[0]} from {student[1]}\")\n",
    "\n",
    "def get_student():\n",
    "    name=input(\"Name: \")\n",
    "    house=input(\"House: \")\n",
    "    return [name,house]\n",
    "if __name__ == \"__main__\":\n",
    "    main()"
   ]
  },
  {
   "cell_type": "code",
   "execution_count": 59,
   "metadata": {},
   "outputs": [
    {
     "name": "stdout",
     "output_type": "stream",
     "text": [
      "Rathika from Griffindor\n"
     ]
    }
   ],
   "source": [
    "class Student:\n",
    "    def __init__(self, name, house):\n",
    "        if not name:\n",
    "            raise ValueError(\"Missing name\")\n",
    "        if house not in [\"Griffindor\", \"Hufflepuff\", \"Ravenclaw\", \"Slytherin\"]:\n",
    "            raise ValueError(\"Invalid house\")\n",
    "        self.name = name\n",
    "        self.house = house\n",
    "\n",
    "def main():\n",
    "    student = get_student()\n",
    "    print(f\"{student.name} from {student.house}\")\n",
    "\n",
    "def get_student():\n",
    "    name = input(\"Name: \")\n",
    "    house = input(\"House: \")\n",
    "    student = Student(name, house)\n",
    "    return student\n",
    "\n",
    "if __name__ == \"__main__\":\n",
    "    main()"
   ]
  },
  {
   "cell_type": "code",
   "execution_count": 61,
   "metadata": {},
   "outputs": [
    {
     "name": "stdout",
     "output_type": "stream",
     "text": [
      "Nikhil from Griffindor\n"
     ]
    }
   ],
   "source": [
    "class Student:\n",
    "    def __init__(self, name, house):\n",
    "        if not name:\n",
    "            raise ValueError(\"Missing name\")\n",
    "        self.name = name\n",
    "        self.house = house \n",
    "\n",
    "    def __str__(self):\n",
    "        return f\"{self.name} from {self.house}\"\n",
    "\n",
    "    @property\n",
    "    def house(self):\n",
    "        return self._house \n",
    "\n",
    "    @house.setter\n",
    "    def house(self, house):\n",
    "        if house not in [\"Griffindor\", \"Hufflepuff\", \"Ravenclaw\", \"Slytherin\"]:\n",
    "            raise ValueError(\"Invalid house\")\n",
    "        self._house = house  \n",
    "\n",
    "def main():\n",
    "    student = get_student()\n",
    "    print(student)\n",
    "\n",
    "def get_student():\n",
    "    name = input(\"Name: \")\n",
    "    house = input(\"House: \")\n",
    "    student = Student(name, house)\n",
    "    return student\n",
    "\n",
    "if __name__ == \"__main__\":\n",
    "    main()\n"
   ]
  },
  {
   "cell_type": "code",
   "execution_count": 62,
   "metadata": {},
   "outputs": [
    {
     "name": "stdout",
     "output_type": "stream",
     "text": [
      "<class 'int'>\n",
      "<class 'dict'>\n"
     ]
    }
   ],
   "source": [
    "print(type(50))\n",
    "print(type({}))"
   ]
  },
  {
   "cell_type": "code",
   "execution_count": 64,
   "metadata": {},
   "outputs": [
    {
     "name": "stdout",
     "output_type": "stream",
     "text": [
      "Harry is in Slytherin\n"
     ]
    }
   ],
   "source": [
    "import random\n",
    "class Hat:\n",
    "    def __init__(self):\n",
    "        self.houses=[\"Griffindor\",\"Hufflepuff\",\"Ravenclaw\",\"Slytherin\"]\n",
    "    def sort(self,name):\n",
    "        print(name, \"is in\", random.choice(self.houses))\n",
    "hat=Hat()\n",
    "hat.sort(\"Harry\")"
   ]
  },
  {
   "cell_type": "code",
   "execution_count": 66,
   "metadata": {},
   "outputs": [
    {
     "name": "stdout",
     "output_type": "stream",
     "text": [
      "100 Galleons, 50 Sickles, 25 Knuts\n"
     ]
    }
   ],
   "source": [
    "class Vault:\n",
    "    def __init__(self,galleons=0,sickles=0,knuts=0):\n",
    "        self.galleons=galleons\n",
    "        self.sickles=sickles\n",
    "        self.knuts=knuts\n",
    "    def __str__(self):\n",
    "        return f\"{self.galleons} Galleons, {self.sickles} Sickles, {self.knuts} Knuts\"\n",
    "potter=Vault(100,50,25)\n",
    "print(potter)"
   ]
  }
 ],
 "metadata": {
  "kernelspec": {
   "display_name": "python-learning",
   "language": "python",
   "name": "python3"
  },
  "language_info": {
   "codemirror_mode": {
    "name": "ipython",
    "version": 3
   },
   "file_extension": ".py",
   "mimetype": "text/x-python",
   "name": "python",
   "nbconvert_exporter": "python",
   "pygments_lexer": "ipython3",
   "version": "3.9.20"
  }
 },
 "nbformat": 4,
 "nbformat_minor": 2
}
